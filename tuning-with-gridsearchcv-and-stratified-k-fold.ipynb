{
 "cells": [
  {
   "cell_type": "code",
   "execution_count": 1,
   "id": "802d495f",
   "metadata": {
    "_cell_guid": "b1076dfc-b9ad-4769-8c92-a6c4dae69d19",
    "_uuid": "8f2839f25d086af736a60e9eeb907d3b93b6e0e5",
    "execution": {
     "iopub.execute_input": "2022-06-08T14:53:50.012947Z",
     "iopub.status.busy": "2022-06-08T14:53:50.012193Z",
     "iopub.status.idle": "2022-06-08T14:53:50.030708Z",
     "shell.execute_reply": "2022-06-08T14:53:50.029622Z"
    },
    "papermill": {
     "duration": 0.035857,
     "end_time": "2022-06-08T14:53:50.033381",
     "exception": false,
     "start_time": "2022-06-08T14:53:49.997524",
     "status": "completed"
    },
    "tags": []
   },
   "outputs": [
    {
     "name": "stdout",
     "output_type": "stream",
     "text": [
      "/kaggle/input/iris/Iris.csv\n",
      "/kaggle/input/iris/database.sqlite\n"
     ]
    }
   ],
   "source": [
    "# This Python 3 environment comes with many helpful analytics libraries installed\n",
    "# It is defined by the kaggle/python Docker image: https://github.com/kaggle/docker-python\n",
    "# For example, here's several helpful packages to load\n",
    "\n",
    "import numpy as np # linear algebra\n",
    "import pandas as pd # data processing, CSV file I/O (e.g. pd.read_csv)\n",
    "\n",
    "# Input data files are available in the read-only \"../input/\" directory\n",
    "# For example, running this (by clicking run or pressing Shift+Enter) will list all files under the input directory\n",
    "\n",
    "import os\n",
    "for dirname, _, filenames in os.walk('/kaggle/input'):\n",
    "    for filename in filenames:\n",
    "        print(os.path.join(dirname, filename))\n",
    "\n",
    "# You can write up to 20GB to the current directory (/kaggle/working/) that gets preserved as output when you create a version using \"Save & Run All\" \n",
    "# You can also write temporary files to /kaggle/temp/, but they won't be saved outside of the current session"
   ]
  },
  {
   "cell_type": "code",
   "execution_count": 2,
   "id": "a32fd97e",
   "metadata": {
    "execution": {
     "iopub.execute_input": "2022-06-08T14:53:50.052448Z",
     "iopub.status.busy": "2022-06-08T14:53:50.051946Z",
     "iopub.status.idle": "2022-06-08T14:53:51.737518Z",
     "shell.execute_reply": "2022-06-08T14:53:51.736667Z"
    },
    "papermill": {
     "duration": 1.697827,
     "end_time": "2022-06-08T14:53:51.740091",
     "exception": false,
     "start_time": "2022-06-08T14:53:50.042264",
     "status": "completed"
    },
    "tags": []
   },
   "outputs": [],
   "source": [
    "import pandas as pd\n",
    "import numpy as np\n",
    "import matplotlib.pyplot as plt\n",
    "%matplotlib inline\n",
    "import seaborn as sns\n",
    "from sklearn.preprocessing import LabelEncoder\n",
    "import warnings\n",
    "warnings.filterwarnings('ignore')\n",
    "from sklearn.preprocessing import MinMaxScaler\n",
    "from sklearn.model_selection import train_test_split, GridSearchCV, KFold\n",
    "from sklearn.svm import SVC\n",
    "from sklearn.neighbors import KNeighborsClassifier\n",
    "from sklearn.metrics import classification_report, confusion_matrix"
   ]
  },
  {
   "cell_type": "code",
   "execution_count": 3,
   "id": "eb2b7823",
   "metadata": {
    "execution": {
     "iopub.execute_input": "2022-06-08T14:53:51.759510Z",
     "iopub.status.busy": "2022-06-08T14:53:51.758355Z",
     "iopub.status.idle": "2022-06-08T14:53:51.778037Z",
     "shell.execute_reply": "2022-06-08T14:53:51.776915Z"
    },
    "papermill": {
     "duration": 0.032659,
     "end_time": "2022-06-08T14:53:51.780853",
     "exception": false,
     "start_time": "2022-06-08T14:53:51.748194",
     "status": "completed"
    },
    "tags": []
   },
   "outputs": [],
   "source": [
    "df_data = pd.read_csv('/kaggle/input/iris/Iris.csv')"
   ]
  },
  {
   "cell_type": "code",
   "execution_count": 4,
   "id": "99727e7d",
   "metadata": {
    "execution": {
     "iopub.execute_input": "2022-06-08T14:53:51.799575Z",
     "iopub.status.busy": "2022-06-08T14:53:51.798505Z",
     "iopub.status.idle": "2022-06-08T14:53:51.833403Z",
     "shell.execute_reply": "2022-06-08T14:53:51.832609Z"
    },
    "papermill": {
     "duration": 0.046525,
     "end_time": "2022-06-08T14:53:51.835704",
     "exception": false,
     "start_time": "2022-06-08T14:53:51.789179",
     "status": "completed"
    },
    "tags": []
   },
   "outputs": [
    {
     "data": {
      "text/html": [
       "<div>\n",
       "<style scoped>\n",
       "    .dataframe tbody tr th:only-of-type {\n",
       "        vertical-align: middle;\n",
       "    }\n",
       "\n",
       "    .dataframe tbody tr th {\n",
       "        vertical-align: top;\n",
       "    }\n",
       "\n",
       "    .dataframe thead th {\n",
       "        text-align: right;\n",
       "    }\n",
       "</style>\n",
       "<table border=\"1\" class=\"dataframe\">\n",
       "  <thead>\n",
       "    <tr style=\"text-align: right;\">\n",
       "      <th></th>\n",
       "      <th>Id</th>\n",
       "      <th>SepalLengthCm</th>\n",
       "      <th>SepalWidthCm</th>\n",
       "      <th>PetalLengthCm</th>\n",
       "      <th>PetalWidthCm</th>\n",
       "      <th>Species</th>\n",
       "    </tr>\n",
       "  </thead>\n",
       "  <tbody>\n",
       "    <tr>\n",
       "      <th>0</th>\n",
       "      <td>1</td>\n",
       "      <td>5.1</td>\n",
       "      <td>3.5</td>\n",
       "      <td>1.4</td>\n",
       "      <td>0.2</td>\n",
       "      <td>Iris-setosa</td>\n",
       "    </tr>\n",
       "    <tr>\n",
       "      <th>1</th>\n",
       "      <td>2</td>\n",
       "      <td>4.9</td>\n",
       "      <td>3.0</td>\n",
       "      <td>1.4</td>\n",
       "      <td>0.2</td>\n",
       "      <td>Iris-setosa</td>\n",
       "    </tr>\n",
       "    <tr>\n",
       "      <th>2</th>\n",
       "      <td>3</td>\n",
       "      <td>4.7</td>\n",
       "      <td>3.2</td>\n",
       "      <td>1.3</td>\n",
       "      <td>0.2</td>\n",
       "      <td>Iris-setosa</td>\n",
       "    </tr>\n",
       "    <tr>\n",
       "      <th>3</th>\n",
       "      <td>4</td>\n",
       "      <td>4.6</td>\n",
       "      <td>3.1</td>\n",
       "      <td>1.5</td>\n",
       "      <td>0.2</td>\n",
       "      <td>Iris-setosa</td>\n",
       "    </tr>\n",
       "    <tr>\n",
       "      <th>4</th>\n",
       "      <td>5</td>\n",
       "      <td>5.0</td>\n",
       "      <td>3.6</td>\n",
       "      <td>1.4</td>\n",
       "      <td>0.2</td>\n",
       "      <td>Iris-setosa</td>\n",
       "    </tr>\n",
       "    <tr>\n",
       "      <th>...</th>\n",
       "      <td>...</td>\n",
       "      <td>...</td>\n",
       "      <td>...</td>\n",
       "      <td>...</td>\n",
       "      <td>...</td>\n",
       "      <td>...</td>\n",
       "    </tr>\n",
       "    <tr>\n",
       "      <th>145</th>\n",
       "      <td>146</td>\n",
       "      <td>6.7</td>\n",
       "      <td>3.0</td>\n",
       "      <td>5.2</td>\n",
       "      <td>2.3</td>\n",
       "      <td>Iris-virginica</td>\n",
       "    </tr>\n",
       "    <tr>\n",
       "      <th>146</th>\n",
       "      <td>147</td>\n",
       "      <td>6.3</td>\n",
       "      <td>2.5</td>\n",
       "      <td>5.0</td>\n",
       "      <td>1.9</td>\n",
       "      <td>Iris-virginica</td>\n",
       "    </tr>\n",
       "    <tr>\n",
       "      <th>147</th>\n",
       "      <td>148</td>\n",
       "      <td>6.5</td>\n",
       "      <td>3.0</td>\n",
       "      <td>5.2</td>\n",
       "      <td>2.0</td>\n",
       "      <td>Iris-virginica</td>\n",
       "    </tr>\n",
       "    <tr>\n",
       "      <th>148</th>\n",
       "      <td>149</td>\n",
       "      <td>6.2</td>\n",
       "      <td>3.4</td>\n",
       "      <td>5.4</td>\n",
       "      <td>2.3</td>\n",
       "      <td>Iris-virginica</td>\n",
       "    </tr>\n",
       "    <tr>\n",
       "      <th>149</th>\n",
       "      <td>150</td>\n",
       "      <td>5.9</td>\n",
       "      <td>3.0</td>\n",
       "      <td>5.1</td>\n",
       "      <td>1.8</td>\n",
       "      <td>Iris-virginica</td>\n",
       "    </tr>\n",
       "  </tbody>\n",
       "</table>\n",
       "<p>150 rows × 6 columns</p>\n",
       "</div>"
      ],
      "text/plain": [
       "      Id  SepalLengthCm  SepalWidthCm  PetalLengthCm  PetalWidthCm  \\\n",
       "0      1            5.1           3.5            1.4           0.2   \n",
       "1      2            4.9           3.0            1.4           0.2   \n",
       "2      3            4.7           3.2            1.3           0.2   \n",
       "3      4            4.6           3.1            1.5           0.2   \n",
       "4      5            5.0           3.6            1.4           0.2   \n",
       "..   ...            ...           ...            ...           ...   \n",
       "145  146            6.7           3.0            5.2           2.3   \n",
       "146  147            6.3           2.5            5.0           1.9   \n",
       "147  148            6.5           3.0            5.2           2.0   \n",
       "148  149            6.2           3.4            5.4           2.3   \n",
       "149  150            5.9           3.0            5.1           1.8   \n",
       "\n",
       "            Species  \n",
       "0       Iris-setosa  \n",
       "1       Iris-setosa  \n",
       "2       Iris-setosa  \n",
       "3       Iris-setosa  \n",
       "4       Iris-setosa  \n",
       "..              ...  \n",
       "145  Iris-virginica  \n",
       "146  Iris-virginica  \n",
       "147  Iris-virginica  \n",
       "148  Iris-virginica  \n",
       "149  Iris-virginica  \n",
       "\n",
       "[150 rows x 6 columns]"
      ]
     },
     "execution_count": 4,
     "metadata": {},
     "output_type": "execute_result"
    }
   ],
   "source": [
    "df_data"
   ]
  },
  {
   "cell_type": "markdown",
   "id": "846d321a",
   "metadata": {
    "papermill": {
     "duration": 0.008567,
     "end_time": "2022-06-08T14:53:51.852734",
     "exception": false,
     "start_time": "2022-06-08T14:53:51.844167",
     "status": "completed"
    },
    "tags": []
   },
   "source": [
    "Remove Id Column:"
   ]
  },
  {
   "cell_type": "code",
   "execution_count": 5,
   "id": "46afe8a4",
   "metadata": {
    "execution": {
     "iopub.execute_input": "2022-06-08T14:53:51.872117Z",
     "iopub.status.busy": "2022-06-08T14:53:51.870922Z",
     "iopub.status.idle": "2022-06-08T14:53:51.883898Z",
     "shell.execute_reply": "2022-06-08T14:53:51.882771Z"
    },
    "papermill": {
     "duration": 0.025453,
     "end_time": "2022-06-08T14:53:51.886564",
     "exception": false,
     "start_time": "2022-06-08T14:53:51.861111",
     "status": "completed"
    },
    "tags": []
   },
   "outputs": [],
   "source": [
    "df_data.drop('Id',axis=1,inplace=True)"
   ]
  },
  {
   "cell_type": "code",
   "execution_count": 6,
   "id": "82942905",
   "metadata": {
    "execution": {
     "iopub.execute_input": "2022-06-08T14:53:51.906471Z",
     "iopub.status.busy": "2022-06-08T14:53:51.905401Z",
     "iopub.status.idle": "2022-06-08T14:53:51.927702Z",
     "shell.execute_reply": "2022-06-08T14:53:51.926554Z"
    },
    "papermill": {
     "duration": 0.035182,
     "end_time": "2022-06-08T14:53:51.930618",
     "exception": false,
     "start_time": "2022-06-08T14:53:51.895436",
     "status": "completed"
    },
    "tags": []
   },
   "outputs": [
    {
     "name": "stdout",
     "output_type": "stream",
     "text": [
      "<class 'pandas.core.frame.DataFrame'>\n",
      "RangeIndex: 150 entries, 0 to 149\n",
      "Data columns (total 5 columns):\n",
      " #   Column         Non-Null Count  Dtype  \n",
      "---  ------         --------------  -----  \n",
      " 0   SepalLengthCm  150 non-null    float64\n",
      " 1   SepalWidthCm   150 non-null    float64\n",
      " 2   PetalLengthCm  150 non-null    float64\n",
      " 3   PetalWidthCm   150 non-null    float64\n",
      " 4   Species        150 non-null    object \n",
      "dtypes: float64(4), object(1)\n",
      "memory usage: 6.0+ KB\n"
     ]
    }
   ],
   "source": [
    "df_data.info()"
   ]
  },
  {
   "cell_type": "markdown",
   "id": "a629ad6d",
   "metadata": {
    "papermill": {
     "duration": 0.008348,
     "end_time": "2022-06-08T14:53:51.948301",
     "exception": false,
     "start_time": "2022-06-08T14:53:51.939953",
     "status": "completed"
    },
    "tags": []
   },
   "source": [
    "All the features of our dataset are of same data type float.\n",
    "\n",
    "The label of the dataset is in Text format.\n",
    "\n",
    "Also looking at the number of non null count of above columns we get that data does not contain any null values.\n",
    "\n",
    "There are 150 rows and 5 columns in our dataset."
   ]
  },
  {
   "cell_type": "code",
   "execution_count": 7,
   "id": "d59d6635",
   "metadata": {
    "execution": {
     "iopub.execute_input": "2022-06-08T14:53:51.968260Z",
     "iopub.status.busy": "2022-06-08T14:53:51.967151Z",
     "iopub.status.idle": "2022-06-08T14:53:51.976420Z",
     "shell.execute_reply": "2022-06-08T14:53:51.975417Z"
    },
    "papermill": {
     "duration": 0.021564,
     "end_time": "2022-06-08T14:53:51.978596",
     "exception": false,
     "start_time": "2022-06-08T14:53:51.957032",
     "status": "completed"
    },
    "tags": []
   },
   "outputs": [
    {
     "data": {
      "text/plain": [
       "Iris-setosa        50\n",
       "Iris-versicolor    50\n",
       "Iris-virginica     50\n",
       "Name: Species, dtype: int64"
      ]
     },
     "execution_count": 7,
     "metadata": {},
     "output_type": "execute_result"
    }
   ],
   "source": [
    "df_data.Species.value_counts()"
   ]
  },
  {
   "cell_type": "code",
   "execution_count": 8,
   "id": "74da4ec9",
   "metadata": {
    "execution": {
     "iopub.execute_input": "2022-06-08T14:53:51.997483Z",
     "iopub.status.busy": "2022-06-08T14:53:51.996986Z",
     "iopub.status.idle": "2022-06-08T14:53:52.257721Z",
     "shell.execute_reply": "2022-06-08T14:53:52.256633Z"
    },
    "papermill": {
     "duration": 0.273122,
     "end_time": "2022-06-08T14:53:52.260182",
     "exception": false,
     "start_time": "2022-06-08T14:53:51.987060",
     "status": "completed"
    },
    "tags": []
   },
   "outputs": [
    {
     "data": {
      "image/png": "[encoded data removed]",
      "text/plain": [
       "<Figure size 1080x360 with 1 Axes>"
      ]
     },
     "metadata": {
      "needs_background": "light"
     },
     "output_type": "display_data"
    }
   ],
   "source": [
    "plt.figure(figsize=(15,5))\n",
    "sns.countplot(df_data.Species)\n",
    "plt.tight_layout()"
   ]
  },
  {
   "cell_type": "markdown",
   "id": "1a5d9f94",
   "metadata": {
    "papermill": {
     "duration": 0.008215,
     "end_time": "2022-06-08T14:53:52.277089",
     "exception": false,
     "start_time": "2022-06-08T14:53:52.268874",
     "status": "completed"
    },
    "tags": []
   },
   "source": [
    "Using LabelEncoder Function to Mapping target column :"
   ]
  },
  {
   "cell_type": "code",
   "execution_count": 9,
   "id": "9b70ef2f",
   "metadata": {
    "execution": {
     "iopub.execute_input": "2022-06-08T14:53:52.297133Z",
     "iopub.status.busy": "2022-06-08T14:53:52.295731Z",
     "iopub.status.idle": "2022-06-08T14:53:52.303009Z",
     "shell.execute_reply": "2022-06-08T14:53:52.301991Z"
    },
    "papermill": {
     "duration": 0.019366,
     "end_time": "2022-06-08T14:53:52.305067",
     "exception": false,
     "start_time": "2022-06-08T14:53:52.285701",
     "status": "completed"
    },
    "tags": []
   },
   "outputs": [],
   "source": [
    "LE = LabelEncoder()\n",
    "df_data.Species = LE.fit_transform(df_data.Species)"
   ]
  },
  {
   "cell_type": "code",
   "execution_count": 10,
   "id": "68bd1b6c",
   "metadata": {
    "execution": {
     "iopub.execute_input": "2022-06-08T14:53:52.325136Z",
     "iopub.status.busy": "2022-06-08T14:53:52.324311Z",
     "iopub.status.idle": "2022-06-08T14:53:52.343091Z",
     "shell.execute_reply": "2022-06-08T14:53:52.342068Z"
    },
    "papermill": {
     "duration": 0.031468,
     "end_time": "2022-06-08T14:53:52.345242",
     "exception": false,
     "start_time": "2022-06-08T14:53:52.313774",
     "status": "completed"
    },
    "tags": []
   },
   "outputs": [
    {
     "data": {
      "text/html": [
       "<div>\n",
       "<style scoped>\n",
       "    .dataframe tbody tr th:only-of-type {\n",
       "        vertical-align: middle;\n",
       "    }\n",
       "\n",
       "    .dataframe tbody tr th {\n",
       "        vertical-align: top;\n",
       "    }\n",
       "\n",
       "    .dataframe thead th {\n",
       "        text-align: right;\n",
       "    }\n",
       "</style>\n",
       "<table border=\"1\" class=\"dataframe\">\n",
       "  <thead>\n",
       "    <tr style=\"text-align: right;\">\n",
       "      <th></th>\n",
       "      <th>SepalLengthCm</th>\n",
       "      <th>SepalWidthCm</th>\n",
       "      <th>PetalLengthCm</th>\n",
       "      <th>PetalWidthCm</th>\n",
       "      <th>Species</th>\n",
       "    </tr>\n",
       "  </thead>\n",
       "  <tbody>\n",
       "    <tr>\n",
       "      <th>0</th>\n",
       "      <td>5.1</td>\n",
       "      <td>3.5</td>\n",
       "      <td>1.4</td>\n",
       "      <td>0.2</td>\n",
       "      <td>0</td>\n",
       "    </tr>\n",
       "    <tr>\n",
       "      <th>1</th>\n",
       "      <td>4.9</td>\n",
       "      <td>3.0</td>\n",
       "      <td>1.4</td>\n",
       "      <td>0.2</td>\n",
       "      <td>0</td>\n",
       "    </tr>\n",
       "    <tr>\n",
       "      <th>2</th>\n",
       "      <td>4.7</td>\n",
       "      <td>3.2</td>\n",
       "      <td>1.3</td>\n",
       "      <td>0.2</td>\n",
       "      <td>0</td>\n",
       "    </tr>\n",
       "    <tr>\n",
       "      <th>3</th>\n",
       "      <td>4.6</td>\n",
       "      <td>3.1</td>\n",
       "      <td>1.5</td>\n",
       "      <td>0.2</td>\n",
       "      <td>0</td>\n",
       "    </tr>\n",
       "    <tr>\n",
       "      <th>4</th>\n",
       "      <td>5.0</td>\n",
       "      <td>3.6</td>\n",
       "      <td>1.4</td>\n",
       "      <td>0.2</td>\n",
       "      <td>0</td>\n",
       "    </tr>\n",
       "    <tr>\n",
       "      <th>...</th>\n",
       "      <td>...</td>\n",
       "      <td>...</td>\n",
       "      <td>...</td>\n",
       "      <td>...</td>\n",
       "      <td>...</td>\n",
       "    </tr>\n",
       "    <tr>\n",
       "      <th>145</th>\n",
       "      <td>6.7</td>\n",
       "      <td>3.0</td>\n",
       "      <td>5.2</td>\n",
       "      <td>2.3</td>\n",
       "      <td>2</td>\n",
       "    </tr>\n",
       "    <tr>\n",
       "      <th>146</th>\n",
       "      <td>6.3</td>\n",
       "      <td>2.5</td>\n",
       "      <td>5.0</td>\n",
       "      <td>1.9</td>\n",
       "      <td>2</td>\n",
       "    </tr>\n",
       "    <tr>\n",
       "      <th>147</th>\n",
       "      <td>6.5</td>\n",
       "      <td>3.0</td>\n",
       "      <td>5.2</td>\n",
       "      <td>2.0</td>\n",
       "      <td>2</td>\n",
       "    </tr>\n",
       "    <tr>\n",
       "      <th>148</th>\n",
       "      <td>6.2</td>\n",
       "      <td>3.4</td>\n",
       "      <td>5.4</td>\n",
       "      <td>2.3</td>\n",
       "      <td>2</td>\n",
       "    </tr>\n",
       "    <tr>\n",
       "      <th>149</th>\n",
       "      <td>5.9</td>\n",
       "      <td>3.0</td>\n",
       "      <td>5.1</td>\n",
       "      <td>1.8</td>\n",
       "      <td>2</td>\n",
       "    </tr>\n",
       "  </tbody>\n",
       "</table>\n",
       "<p>150 rows × 5 columns</p>\n",
       "</div>"
      ],
      "text/plain": [
       "     SepalLengthCm  SepalWidthCm  PetalLengthCm  PetalWidthCm  Species\n",
       "0              5.1           3.5            1.4           0.2        0\n",
       "1              4.9           3.0            1.4           0.2        0\n",
       "2              4.7           3.2            1.3           0.2        0\n",
       "3              4.6           3.1            1.5           0.2        0\n",
       "4              5.0           3.6            1.4           0.2        0\n",
       "..             ...           ...            ...           ...      ...\n",
       "145            6.7           3.0            5.2           2.3        2\n",
       "146            6.3           2.5            5.0           1.9        2\n",
       "147            6.5           3.0            5.2           2.0        2\n",
       "148            6.2           3.4            5.4           2.3        2\n",
       "149            5.9           3.0            5.1           1.8        2\n",
       "\n",
       "[150 rows x 5 columns]"
      ]
     },
     "execution_count": 10,
     "metadata": {},
     "output_type": "execute_result"
    }
   ],
   "source": [
    "df_data"
   ]
  },
  {
   "cell_type": "code",
   "execution_count": 11,
   "id": "3e7f66b6",
   "metadata": {
    "execution": {
     "iopub.execute_input": "2022-06-08T14:53:52.366380Z",
     "iopub.status.busy": "2022-06-08T14:53:52.365419Z",
     "iopub.status.idle": "2022-06-08T14:53:53.054115Z",
     "shell.execute_reply": "2022-06-08T14:53:53.052806Z"
    },
    "papermill": {
     "duration": 0.701976,
     "end_time": "2022-06-08T14:53:53.056840",
     "exception": false,
     "start_time": "2022-06-08T14:53:52.354864",
     "status": "completed"
    },
    "tags": []
   },
   "outputs": [
    {
     "data": {
      "image/png": "[encoded data removed]",
      "text/plain": [
       "<Figure size 1080x360 with 4 Axes>"
      ]
     },
     "metadata": {
      "needs_background": "light"
     },
     "output_type": "display_data"
    }
   ],
   "source": [
    "fig,axes = plt.subplots(2,2,figsize=(15,5))\n",
    "for i , j in enumerate(df_data.columns[:-1]):\n",
    "    sns.histplot(data=df_data,x = j, kde=True, ax = axes[i//2,i%2])\n",
    "plt.subplots_adjust(wspace=0.6,hspace=0.5)\n",
    "    "
   ]
  },
  {
   "cell_type": "code",
   "execution_count": 12,
   "id": "47ec5fcc",
   "metadata": {
    "execution": {
     "iopub.execute_input": "2022-06-08T14:53:53.078609Z",
     "iopub.status.busy": "2022-06-08T14:53:53.078100Z",
     "iopub.status.idle": "2022-06-08T14:53:53.085365Z",
     "shell.execute_reply": "2022-06-08T14:53:53.084078Z"
    },
    "papermill": {
     "duration": 0.020648,
     "end_time": "2022-06-08T14:53:53.087544",
     "exception": false,
     "start_time": "2022-06-08T14:53:53.066896",
     "status": "completed"
    },
    "tags": []
   },
   "outputs": [],
   "source": [
    "# Specify X , y from df_data: \n",
    "X = df_data.drop('Species',axis=1)\n",
    "y = df_data.Species"
   ]
  },
  {
   "cell_type": "code",
   "execution_count": 13,
   "id": "59301e70",
   "metadata": {
    "execution": {
     "iopub.execute_input": "2022-06-08T14:53:53.110624Z",
     "iopub.status.busy": "2022-06-08T14:53:53.109255Z",
     "iopub.status.idle": "2022-06-08T14:53:53.116279Z",
     "shell.execute_reply": "2022-06-08T14:53:53.115468Z"
    },
    "papermill": {
     "duration": 0.020699,
     "end_time": "2022-06-08T14:53:53.118342",
     "exception": false,
     "start_time": "2022-06-08T14:53:53.097643",
     "status": "completed"
    },
    "tags": []
   },
   "outputs": [],
   "source": [
    "X_train,X_test,y_train,y_test=train_test_split(X,y,test_size=0.2)"
   ]
  },
  {
   "cell_type": "markdown",
   "id": "7c365aec",
   "metadata": {
    "papermill": {
     "duration": 0.010023,
     "end_time": "2022-06-08T14:53:53.138482",
     "exception": false,
     "start_time": "2022-06-08T14:53:53.128459",
     "status": "completed"
    },
    "tags": []
   },
   "source": [
    "Normalizing the values:"
   ]
  },
  {
   "cell_type": "code",
   "execution_count": 14,
   "id": "02cec7a6",
   "metadata": {
    "execution": {
     "iopub.execute_input": "2022-06-08T14:53:53.160520Z",
     "iopub.status.busy": "2022-06-08T14:53:53.159790Z",
     "iopub.status.idle": "2022-06-08T14:53:53.169288Z",
     "shell.execute_reply": "2022-06-08T14:53:53.168377Z"
    },
    "papermill": {
     "duration": 0.023032,
     "end_time": "2022-06-08T14:53:53.171490",
     "exception": false,
     "start_time": "2022-06-08T14:53:53.148458",
     "status": "completed"
    },
    "tags": []
   },
   "outputs": [],
   "source": [
    "MinMax = MinMaxScaler()\n",
    "X_train = MinMax.fit_transform(X_train)\n",
    "X_test = MinMax.transform(X_test)"
   ]
  },
  {
   "cell_type": "markdown",
   "id": "b28f9d40",
   "metadata": {
    "papermill": {
     "duration": 0.009795,
     "end_time": "2022-06-08T14:53:53.191128",
     "exception": false,
     "start_time": "2022-06-08T14:53:53.181333",
     "status": "completed"
    },
    "tags": []
   },
   "source": [
    "Let's Try different Algorithms on this dataset now. first I'll be using SVM and second algorithm is KNN:"
   ]
  },
  {
   "cell_type": "markdown",
   "id": "a3a9a73a",
   "metadata": {
    "papermill": {
     "duration": 0.009414,
     "end_time": "2022-06-08T14:53:53.210386",
     "exception": false,
     "start_time": "2022-06-08T14:53:53.200972",
     "status": "completed"
    },
    "tags": []
   },
   "source": [
    "In some cases, trying all possible combinations of all parameters as GridSearchCV\n",
    "usually does, is not a good idea. For example, SVC has a kernel parameter, and\n",
    "depending on which kernel is chosen, other parameters will be relevant. If kernel='linear', the model is linear, and only the C parameter is used. If kernel='rbf',\n",
    "both the C and gamma parameters are used (but not other parameters like degree). In\n",
    "this case, searching over all possible combinations of C, gamma, and kernel wouldn’t\n",
    "make sense: if kernel='linear', gamma is not used, and trying different values for\n",
    "gamma would be a waste of time. To deal with these kinds of “conditional” parameters,\n",
    "GridSearchCV allows the param_grid to be a list of dictionaries. Each dictionary in the\n",
    "list is expanded into an independent grid. A possible grid search involving kernel and\n",
    "parameters could look like this:"
   ]
  },
  {
   "cell_type": "code",
   "execution_count": 15,
   "id": "f6d09350",
   "metadata": {
    "execution": {
     "iopub.execute_input": "2022-06-08T14:53:53.232388Z",
     "iopub.status.busy": "2022-06-08T14:53:53.231309Z",
     "iopub.status.idle": "2022-06-08T14:53:53.717672Z",
     "shell.execute_reply": "2022-06-08T14:53:53.716471Z"
    },
    "papermill": {
     "duration": 0.500155,
     "end_time": "2022-06-08T14:53:53.720300",
     "exception": false,
     "start_time": "2022-06-08T14:53:53.220145",
     "status": "completed"
    },
    "tags": []
   },
   "outputs": [
    {
     "name": "stdout",
     "output_type": "stream",
     "text": [
      "Score on Train Data is: 0.99\n",
      "Score on Test Data is: 0.90\n",
      "Best Params is: {'C': 1, 'gamma': 10, 'kernel': 'rbf'}\n",
      "Best score is: 0.9833333333333334\n"
     ]
    }
   ],
   "source": [
    "# Hyperparameter Tuning using Grid Search CV for Support vector machine.\n",
    "param_grid = [{'kernel':['rbf'],'C':[0.001, 0.01, 0.1, 1, 10, 100],'gamma':[0.001, 0.01, 0.1, 1, 10, 100]},\n",
    "            {'kernel':['linear'],'C':[0.001, 0.01, 0.1, 1, 10, 100]}]\n",
    "kfold = KFold(n_splits=5,shuffle=True,random_state=0)\n",
    "grid = GridSearchCV(SVC(),param_grid,cv=kfold)\n",
    "grid.fit(X_train,y_train)\n",
    "print('Score on Train Data is: {:.2f}'.format(grid.score(X_train,y_train)))\n",
    "print('Score on Test Data is: {:.2f}'.format(grid.score(X_test,y_test)))\n",
    "print('Best Params is: {}'.format(grid.best_params_))\n",
    "print('Best score is: {}'.format(grid.best_score_))"
   ]
  },
  {
   "cell_type": "code",
   "execution_count": 16,
   "id": "6517c49f",
   "metadata": {
    "execution": {
     "iopub.execute_input": "2022-06-08T14:53:53.743199Z",
     "iopub.status.busy": "2022-06-08T14:53:53.742013Z",
     "iopub.status.idle": "2022-06-08T14:53:53.749448Z",
     "shell.execute_reply": "2022-06-08T14:53:53.748521Z"
    },
    "papermill": {
     "duration": 0.021515,
     "end_time": "2022-06-08T14:53:53.751805",
     "exception": false,
     "start_time": "2022-06-08T14:53:53.730290",
     "status": "completed"
    },
    "tags": []
   },
   "outputs": [],
   "source": [
    "y_pred = grid.predict(X_test)\n",
    "y_train_pred = grid.predict(X_train)"
   ]
  },
  {
   "cell_type": "code",
   "execution_count": 17,
   "id": "7aafc18c",
   "metadata": {
    "execution": {
     "iopub.execute_input": "2022-06-08T14:53:53.773988Z",
     "iopub.status.busy": "2022-06-08T14:53:53.773378Z",
     "iopub.status.idle": "2022-06-08T14:53:53.786205Z",
     "shell.execute_reply": "2022-06-08T14:53:53.784924Z"
    },
    "papermill": {
     "duration": 0.026872,
     "end_time": "2022-06-08T14:53:53.788680",
     "exception": false,
     "start_time": "2022-06-08T14:53:53.761808",
     "status": "completed"
    },
    "tags": []
   },
   "outputs": [
    {
     "name": "stdout",
     "output_type": "stream",
     "text": [
      "Classification report \n",
      "               precision    recall  f1-score   support\n",
      "\n",
      "           0       1.00      1.00      1.00         8\n",
      "           1       0.82      0.90      0.86        10\n",
      "           2       0.91      0.83      0.87        12\n",
      "\n",
      "    accuracy                           0.90        30\n",
      "   macro avg       0.91      0.91      0.91        30\n",
      "weighted avg       0.90      0.90      0.90        30\n",
      "\n"
     ]
    }
   ],
   "source": [
    "print('Classification report \\n',classification_report(y_test,y_pred))"
   ]
  },
  {
   "cell_type": "code",
   "execution_count": 18,
   "id": "1e1e56e2",
   "metadata": {
    "execution": {
     "iopub.execute_input": "2022-06-08T14:53:53.810889Z",
     "iopub.status.busy": "2022-06-08T14:53:53.810350Z",
     "iopub.status.idle": "2022-06-08T14:53:54.386147Z",
     "shell.execute_reply": "2022-06-08T14:53:54.384756Z"
    },
    "papermill": {
     "duration": 0.590003,
     "end_time": "2022-06-08T14:53:54.389122",
     "exception": false,
     "start_time": "2022-06-08T14:53:53.799119",
     "status": "completed"
    },
    "tags": []
   },
   "outputs": [
    {
     "data": {
      "text/plain": [
       "[Text(0.5, 1.0, 'Confusion matrix on train data')]"
      ]
     },
     "execution_count": 18,
     "metadata": {},
     "output_type": "execute_result"
    },
    {
     "data": {
      "image/png": "[encoded data removed]",
      "text/plain": [
       "<Figure size 1440x360 with 4 Axes>"
      ]
     },
     "metadata": {
      "needs_background": "light"
     },
     "output_type": "display_data"
    }
   ],
   "source": [
    "fig,axes = plt.subplots(1,2,figsize=(20,5))\n",
    "sns.heatmap(confusion_matrix(y_train,y_train_pred),annot=True,cmap = 'Greens', ax = axes[0]).set(title='Confusion matrix on train data')\n",
    "sns.heatmap(confusion_matrix(y_test,y_pred),annot=True,cmap = 'Greens', ax = axes[1]).set(title='Confusion matrix on train data')"
   ]
  },
  {
   "cell_type": "code",
   "execution_count": 19,
   "id": "892faf0e",
   "metadata": {
    "execution": {
     "iopub.execute_input": "2022-06-08T14:53:54.417134Z",
     "iopub.status.busy": "2022-06-08T14:53:54.416297Z",
     "iopub.status.idle": "2022-06-08T14:53:54.880978Z",
     "shell.execute_reply": "2022-06-08T14:53:54.879716Z"
    },
    "papermill": {
     "duration": 0.481897,
     "end_time": "2022-06-08T14:53:54.883998",
     "exception": false,
     "start_time": "2022-06-08T14:53:54.402101",
     "status": "completed"
    },
    "tags": []
   },
   "outputs": [
    {
     "name": "stdout",
     "output_type": "stream",
     "text": [
      "Score on Train Data is: 0.97\n",
      "Score on Test Data is: 0.90\n",
      "Best Params is: {'metric': 'euclidean', 'n_neighbors': 3}\n",
      "best score is: 0.9833333333333334\n"
     ]
    }
   ],
   "source": [
    "param_grid = {'n_neighbors': range(3,21,2),'metric':['euclidean','manhattan','minkowski']}\n",
    "kfold = KFold(n_splits=5,shuffle=True,random_state=0)\n",
    "grid = GridSearchCV(KNeighborsClassifier(),param_grid,cv=kfold)\n",
    "grid.fit(X_train,y_train)\n",
    "print('Score on Train Data is: {:.2f}'.format(grid.score(X_train,y_train)))\n",
    "print('Score on Test Data is: {:.2f}'.format(grid.score(X_test,y_test)))\n",
    "print('Best Params is: {}'.format(grid.best_params_))\n",
    "print('best score is: {}'.format(grid.best_score_))"
   ]
  },
  {
   "cell_type": "code",
   "execution_count": 20,
   "id": "82986879",
   "metadata": {
    "execution": {
     "iopub.execute_input": "2022-06-08T14:53:54.912344Z",
     "iopub.status.busy": "2022-06-08T14:53:54.911853Z",
     "iopub.status.idle": "2022-06-08T14:53:54.930595Z",
     "shell.execute_reply": "2022-06-08T14:53:54.929419Z"
    },
    "papermill": {
     "duration": 0.033386,
     "end_time": "2022-06-08T14:53:54.932959",
     "exception": false,
     "start_time": "2022-06-08T14:53:54.899573",
     "status": "completed"
    },
    "tags": []
   },
   "outputs": [],
   "source": [
    "y_pred = grid.predict(X_test)\n",
    "y_train_pred = grid.predict(X_train)"
   ]
  },
  {
   "cell_type": "code",
   "execution_count": 21,
   "id": "a9d6ac0c",
   "metadata": {
    "execution": {
     "iopub.execute_input": "2022-06-08T14:53:54.957273Z",
     "iopub.status.busy": "2022-06-08T14:53:54.956100Z",
     "iopub.status.idle": "2022-06-08T14:53:54.967433Z",
     "shell.execute_reply": "2022-06-08T14:53:54.966385Z"
    },
    "papermill": {
     "duration": 0.025865,
     "end_time": "2022-06-08T14:53:54.969670",
     "exception": false,
     "start_time": "2022-06-08T14:53:54.943805",
     "status": "completed"
    },
    "tags": []
   },
   "outputs": [
    {
     "name": "stdout",
     "output_type": "stream",
     "text": [
      "Classification report \n",
      "               precision    recall  f1-score   support\n",
      "\n",
      "           0       1.00      1.00      1.00         8\n",
      "           1       0.82      0.90      0.86        10\n",
      "           2       0.91      0.83      0.87        12\n",
      "\n",
      "    accuracy                           0.90        30\n",
      "   macro avg       0.91      0.91      0.91        30\n",
      "weighted avg       0.90      0.90      0.90        30\n",
      "\n"
     ]
    }
   ],
   "source": [
    "print('Classification report \\n',classification_report(y_test,y_pred))"
   ]
  },
  {
   "cell_type": "code",
   "execution_count": 22,
   "id": "49beda43",
   "metadata": {
    "execution": {
     "iopub.execute_input": "2022-06-08T14:53:54.992818Z",
     "iopub.status.busy": "2022-06-08T14:53:54.991979Z",
     "iopub.status.idle": "2022-06-08T14:53:55.493041Z",
     "shell.execute_reply": "2022-06-08T14:53:55.491967Z"
    },
    "papermill": {
     "duration": 0.515251,
     "end_time": "2022-06-08T14:53:55.495428",
     "exception": false,
     "start_time": "2022-06-08T14:53:54.980177",
     "status": "completed"
    },
    "tags": []
   },
   "outputs": [
    {
     "data": {
      "text/plain": [
       "[Text(0.5, 1.0, 'Confusion matrix on train data')]"
      ]
     },
     "execution_count": 22,
     "metadata": {},
     "output_type": "execute_result"
    },
    {
     "data": {
      "image/png": "[encoded data removed]",
      "text/plain": [
       "<Figure size 1440x360 with 4 Axes>"
      ]
     },
     "metadata": {
      "needs_background": "light"
     },
     "output_type": "display_data"
    }
   ],
   "source": [
    "fig,axes = plt.subplots(1,2,figsize=(20,5))\n",
    "sns.heatmap(confusion_matrix(y_train,y_train_pred),annot=True,cmap = 'Greens', ax = axes[0]).set(title='Confusion matrix on train data')\n",
    "sns.heatmap(confusion_matrix(y_test,y_pred),annot=True,cmap = 'Greens', ax = axes[1]).set(title='Confusion matrix on train data')\n"
   ]
  }
 ],
 "metadata": {
  "kernelspec": {
   "display_name": "Python 3",
   "language": "python",
   "name": "python3"
  },
  "language_info": {
   "codemirror_mode": {
    "name": "ipython",
    "version": 3
   },
   "file_extension": ".py",
   "mimetype": "text/x-python",
   "name": "python",
   "nbconvert_exporter": "python",
   "pygments_lexer": "ipython3",
   "version": "3.7.12"
  },
  "papermill": {
   "default_parameters": {},
   "duration": 17.775724,
   "end_time": "2022-06-08T14:53:56.635967",
   "environment_variables": {},
   "exception": null,
   "input_path": "__notebook__.ipynb",
   "output_path": "__notebook__.ipynb",
   "parameters": {},
   "start_time": "2022-06-08T14:53:38.860243",
   "version": "2.3.4"
  }
 },
 "nbformat": 4,
 "nbformat_minor": 5
}
